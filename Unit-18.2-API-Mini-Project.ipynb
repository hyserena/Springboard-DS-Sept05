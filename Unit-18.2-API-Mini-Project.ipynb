{
 "cells": [
  {
   "cell_type": "code",
   "execution_count": 1,
   "id": "7175c261",
   "metadata": {},
   "outputs": [],
   "source": [
    "import os\n",
    "import requests\n",
    "from dotenv import load_dotenv\n",
    "\n",
    "load_dotenv()\n",
    "API_KEY = os.getenv('NASDAQ_API_KEY')"
   ]
  },
  {
   "cell_type": "markdown",
   "id": "5302bccb",
   "metadata": {},
   "source": [
    "#### 1. Collect data from the Franfurt Stock Exchange, for the ticker AFX_X, for the whole year 2017 (keep in mind that the date format is YYYY-MM-DD)."
   ]
  },
  {
   "cell_type": "code",
   "execution_count": 71,
   "id": "60565c9d",
   "metadata": {
    "scrolled": false
   },
   "outputs": [],
   "source": [
    "data = requests.get(\"https://data.nasdaq.com/api/v3/datasets/FSE/AFX_X/data.json?start_date=2017-01-01&end_date=2017-12-31&api_key={API_KEY}\"+API_KEY)"
   ]
  },
  {
   "cell_type": "markdown",
   "id": "0ef7be01",
   "metadata": {},
   "source": [
    "#### 2. Convert the returned JSON object into a Python dictionary."
   ]
  },
  {
   "cell_type": "code",
   "execution_count": 57,
   "id": "8e150382",
   "metadata": {
    "scrolled": false
   },
   "outputs": [
    {
     "data": {
      "text/plain": [
       "dict"
      ]
     },
     "execution_count": 57,
     "metadata": {},
     "output_type": "execute_result"
    }
   ],
   "source": [
    "AFX_dict = data.json()\n",
    "type(AFX_dict)"
   ]
  },
  {
   "cell_type": "markdown",
   "id": "9fcf968e",
   "metadata": {},
   "source": [
    "#### 3. Calculate what the highest and lowest opening prices were for the stock in this period."
   ]
  },
  {
   "cell_type": "code",
   "execution_count": 58,
   "id": "d0ff16eb",
   "metadata": {},
   "outputs": [
    {
     "name": "stdout",
     "output_type": "stream",
     "text": [
      "The highest opening price was: $53.11\n",
      "The lowest opening price was: $34.0\n",
      "252\n"
     ]
    }
   ],
   "source": [
    "opens = []\n",
    "\n",
    "for data in AFX_dict['dataset_data']['data']: \n",
    "    if type(data[1]) == float:\n",
    "        opens.append(data[1])\n",
    "\n",
    "high_open = max(opens)\n",
    "low_open = min(opens)\n",
    "print('The highest opening price was: $' + str(high_open))\n",
    "print('The lowest opening price was: $' + str(low_open))\n",
    "print(len(opens))"
   ]
  },
  {
   "cell_type": "markdown",
   "id": "b79ab0f0",
   "metadata": {},
   "source": [
    "#### 4. What was the largest change in any one day (based on High and Low price)?"
   ]
  },
  {
   "cell_type": "code",
   "execution_count": 59,
   "id": "5e6ebfae",
   "metadata": {},
   "outputs": [
    {
     "name": "stdout",
     "output_type": "stream",
     "text": [
      "The largest change in any one day: $2.8100000000000023\n",
      "255\n"
     ]
    }
   ],
   "source": [
    "price_changes = []\n",
    "\n",
    "for data in AFX_dict['dataset_data']['data']: \n",
    "    if type(data[2]) == float and type(data[3]) == float:\n",
    "        change = data[2] - data[3]\n",
    "        price_changes.append(change)\n",
    "\n",
    "print('The largest change in any one day: $' + str(max(price_changes)))\n",
    "print(len(price_changes))"
   ]
  },
  {
   "cell_type": "markdown",
   "id": "153e044a",
   "metadata": {},
   "source": [
    "#### 5. What was the largest change between any two days (based on Closing Price)?"
   ]
  },
  {
   "cell_type": "code",
   "execution_count": 60,
   "id": "01c21048",
   "metadata": {},
   "outputs": [],
   "source": [
    "dates = []\n",
    "opens = []\n",
    "closes = []\n",
    "date_open_close = []\n",
    "\n",
    "for i, data in enumerate(reversed(AFX_dict['dataset_data']['data'])): \n",
    "    #gotta make a separate date, open, close array, and then do the i and i-1 analysis\n",
    "    \n",
    "    if type(data[1]) == float and type(data[4]) == float:\n",
    "        dates.append(data[0])\n",
    "        opens.append(data[1])\n",
    "        closes.append(data[4])\n",
    "\n",
    "date_open_close = [dates, opens, closes]"
   ]
  },
  {
   "cell_type": "code",
   "execution_count": 61,
   "id": "1a403208",
   "metadata": {},
   "outputs": [
    {
     "name": "stdout",
     "output_type": "stream",
     "text": [
      "The largest change between any two days was: $0.7800000000000011\n"
     ]
    }
   ],
   "source": [
    "daily_changes = []\n",
    "\n",
    "for i in range(len(dates)):\n",
    "    if i != 0:\n",
    "        d_change = opens[i] - closes[i-1]\n",
    "        daily_changes.append(d_change)\n",
    "        \n",
    "print('The largest change between any two days was: $' + str(max(daily_changes)))"
   ]
  },
  {
   "cell_type": "markdown",
   "id": "291d05f3",
   "metadata": {},
   "source": [
    "#### 6. What was the average daily trading volume during this year?"
   ]
  },
  {
   "cell_type": "code",
   "execution_count": 62,
   "id": "fe965ab7",
   "metadata": {
    "scrolled": true
   },
   "outputs": [
    {
     "name": "stdout",
     "output_type": "stream",
     "text": [
      "The average daily trading volume during this year (traded_volumes): 89124.33725490196\n"
     ]
    }
   ],
   "source": [
    "traded_volumes = []\n",
    "\n",
    "for data in AFX_dict['dataset_data']['data']: \n",
    "    if type(data[6]) == float or type(data[6]) == int:\n",
    "        traded_volumes.append(data[6])\n",
    "        \n",
    "avg = sum(traded_volumes) / len(traded_volumes)\n",
    "print('The average daily trading volume during this year (traded_volumes): ' + str(avg))"
   ]
  },
  {
   "cell_type": "markdown",
   "id": "52ed5831",
   "metadata": {},
   "source": [
    "#### 7. (Optional) What was the median trading volume during this year. (Note: you may need to implement your own function for calculating the median.)"
   ]
  },
  {
   "cell_type": "code",
   "execution_count": 63,
   "id": "0bf0c7b6",
   "metadata": {},
   "outputs": [
    {
     "name": "stdout",
     "output_type": "stream",
     "text": [
      "The median for the traded volume is: 76286.0\n"
     ]
    }
   ],
   "source": [
    "s_tv = sorted(traded_volumes)\n",
    "half = len(s_tv)/2 \n",
    "median = s_tv[int(half)]\n",
    "print('The median for the traded volume is: ' + str(median))"
   ]
  }
 ],
 "metadata": {
  "kernelspec": {
   "display_name": "Python 3 (ipykernel)",
   "language": "python",
   "name": "python3"
  },
  "language_info": {
   "codemirror_mode": {
    "name": "ipython",
    "version": 3
   },
   "file_extension": ".py",
   "mimetype": "text/x-python",
   "name": "python",
   "nbconvert_exporter": "python",
   "pygments_lexer": "ipython3",
   "version": "3.11.4"
  }
 },
 "nbformat": 4,
 "nbformat_minor": 5
}
